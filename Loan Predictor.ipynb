{
 "cells": [
  {
   "cell_type": "markdown",
   "metadata": {},
   "source": [
    "# Contest from: https://www.analyticsvidhya.com/blog/2018/05/24-ultimate-data-science-projects-to-boost-your-knowledge-and-skills/. \n",
    "\n",
    "## Load Predictor"
   ]
  },
  {
   "cell_type": "code",
   "execution_count": 1,
   "metadata": {},
   "outputs": [
    {
     "name": "stderr",
     "output_type": "stream",
     "text": [
      "/anaconda3/lib/python3.6/site-packages/sklearn/ensemble/weight_boosting.py:29: DeprecationWarning: numpy.core.umath_tests is an internal NumPy module and should not be imported. It will be removed in a future NumPy release.\n",
      "  from numpy.core.umath_tests import inner1d\n"
     ]
    }
   ],
   "source": [
    "import pandas as pd\n",
    "import numpy as np\n",
    "import matplotlib.pyplot as plt\n",
    "from sklearn.svm import SVC\n",
    "from sklearn.metrics import accuracy_score\n",
    "from sklearn.metrics import classification_report\n",
    "from sklearn.metrics import confusion_matrix\n",
    "from sklearn import model_selection\n",
    "from sklearn.linear_model import LogisticRegression\n",
    "from sklearn.naive_bayes import GaussianNB\n",
    "from sklearn.discriminant_analysis import LinearDiscriminantAnalysis\n",
    "from sklearn.discriminant_analysis import QuadraticDiscriminantAnalysis\n",
    "from sklearn.svm import LinearSVC\n",
    "from sklearn.linear_model import SGDClassifier\n",
    "from sklearn.neighbors import KNeighborsClassifier\n",
    "from sklearn.tree import DecisionTreeClassifier\n",
    "from sklearn.ensemble import RandomForestClassifier\n",
    "import seaborn as sns"
   ]
  },
  {
   "cell_type": "code",
   "execution_count": 2,
   "metadata": {},
   "outputs": [],
   "source": [
    "df = pd.read_csv('./train.csv')"
   ]
  },
  {
   "cell_type": "code",
   "execution_count": 3,
   "metadata": {},
   "outputs": [
    {
     "name": "stdout",
     "output_type": "stream",
     "text": [
      "    Loan_ID Gender Married Dependents     Education Self_Employed  \\\n",
      "0  LP001002   Male      No          0      Graduate            No   \n",
      "1  LP001003   Male     Yes          1      Graduate            No   \n",
      "2  LP001005   Male     Yes          0      Graduate           Yes   \n",
      "3  LP001006   Male     Yes          0  Not Graduate            No   \n",
      "4  LP001008   Male      No          0      Graduate            No   \n",
      "5  LP001011   Male     Yes          2      Graduate           Yes   \n",
      "6  LP001013   Male     Yes          0  Not Graduate            No   \n",
      "7  LP001014   Male     Yes         3+      Graduate            No   \n",
      "8  LP001018   Male     Yes          2      Graduate            No   \n",
      "9  LP001020   Male     Yes          1      Graduate            No   \n",
      "\n",
      "   ApplicantIncome  CoapplicantIncome  LoanAmount  Loan_Amount_Term  \\\n",
      "0             5849                0.0         NaN             360.0   \n",
      "1             4583             1508.0       128.0             360.0   \n",
      "2             3000                0.0        66.0             360.0   \n",
      "3             2583             2358.0       120.0             360.0   \n",
      "4             6000                0.0       141.0             360.0   \n",
      "5             5417             4196.0       267.0             360.0   \n",
      "6             2333             1516.0        95.0             360.0   \n",
      "7             3036             2504.0       158.0             360.0   \n",
      "8             4006             1526.0       168.0             360.0   \n",
      "9            12841            10968.0       349.0             360.0   \n",
      "\n",
      "   Credit_History Property_Area Loan_Status  \n",
      "0             1.0         Urban           Y  \n",
      "1             1.0         Rural           N  \n",
      "2             1.0         Urban           Y  \n",
      "3             1.0         Urban           Y  \n",
      "4             1.0         Urban           Y  \n",
      "5             1.0         Urban           Y  \n",
      "6             1.0         Urban           Y  \n",
      "7             0.0     Semiurban           N  \n",
      "8             1.0         Urban           Y  \n",
      "9             1.0     Semiurban           N  \n",
      "(614, 13)\n"
     ]
    }
   ],
   "source": [
    "print(df.head(10))\n",
    "print(df.shape)"
   ]
  },
  {
   "cell_type": "code",
   "execution_count": 4,
   "metadata": {},
   "outputs": [
    {
     "name": "stdout",
     "output_type": "stream",
     "text": [
      "Loan_ID               0\n",
      "Gender               13\n",
      "Married               3\n",
      "Dependents           15\n",
      "Education             0\n",
      "Self_Employed        32\n",
      "ApplicantIncome       0\n",
      "CoapplicantIncome     0\n",
      "LoanAmount           22\n",
      "Loan_Amount_Term     14\n",
      "Credit_History       50\n",
      "Property_Area         0\n",
      "Loan_Status           0\n",
      "dtype: int64\n"
     ]
    }
   ],
   "source": [
    "# Display missing data\n",
    "print(df.apply(lambda x: sum(x.isnull()),axis=0))"
   ]
  },
  {
   "cell_type": "code",
   "execution_count": 5,
   "metadata": {},
   "outputs": [
    {
     "name": "stdout",
     "output_type": "stream",
     "text": [
      "Loan_ID               object\n",
      "Gender                object\n",
      "Married               object\n",
      "Dependents            object\n",
      "Education             object\n",
      "Self_Employed         object\n",
      "ApplicantIncome        int64\n",
      "CoapplicantIncome    float64\n",
      "LoanAmount           float64\n",
      "Loan_Amount_Term     float64\n",
      "Credit_History       float64\n",
      "Property_Area         object\n",
      "Loan_Status           object\n",
      "dtype: object\n"
     ]
    }
   ],
   "source": [
    "# Checking data types of columns\n",
    "print(df.dtypes)"
   ]
  },
  {
   "cell_type": "code",
   "execution_count": 6,
   "metadata": {},
   "outputs": [
    {
     "name": "stdout",
     "output_type": "stream",
     "text": [
      "Gender:\n",
      "Female    112\n",
      "Male      489\n",
      "Name: Gender, dtype: int64\n",
      "\n",
      "Married:\n",
      "No     213\n",
      "Yes    398\n",
      "Name: Married, dtype: int64\n",
      "\n",
      "Dependents:\n",
      "3+     51\n",
      "2     101\n",
      "1     102\n",
      "0     345\n",
      "Name: Dependents, dtype: int64\n",
      "\n",
      "Self Employed:\n",
      "Yes     82\n",
      "No     500\n",
      "Name: Self_Employed, dtype: int64\n",
      "\n",
      "Loan Amount:\n",
      "311.0     1\n",
      "117.0     1\n",
      "376.0     1\n",
      "300.0     1\n",
      "570.0     1\n",
      "89.0      1\n",
      "54.0      1\n",
      "78.0      1\n",
      "436.0     1\n",
      "650.0     1\n",
      "304.0     1\n",
      "279.0     1\n",
      "405.0     1\n",
      "280.0     1\n",
      "349.0     1\n",
      "42.0      1\n",
      "72.0      1\n",
      "240.0     1\n",
      "214.0     1\n",
      "59.0      1\n",
      "495.0     1\n",
      "166.0     1\n",
      "191.0     1\n",
      "83.0      1\n",
      "164.0     1\n",
      "48.0      1\n",
      "142.0     1\n",
      "73.0      1\n",
      "101.0     1\n",
      "315.0     1\n",
      "         ..\n",
      "152.0     5\n",
      "180.0     6\n",
      "155.0     6\n",
      "144.0     6\n",
      "175.0     6\n",
      "116.0     6\n",
      "158.0     6\n",
      "90.0      6\n",
      "138.0     6\n",
      "81.0      6\n",
      "80.0      6\n",
      "104.0     7\n",
      "125.0     7\n",
      "132.0     7\n",
      "136.0     7\n",
      "135.0     7\n",
      "150.0     7\n",
      "112.0     8\n",
      "115.0     8\n",
      "70.0      8\n",
      "95.0      9\n",
      "96.0      9\n",
      "130.0    10\n",
      "113.0    11\n",
      "128.0    11\n",
      "160.0    12\n",
      "187.0    12\n",
      "100.0    15\n",
      "110.0    17\n",
      "120.0    20\n",
      "Name: LoanAmount, Length: 203, dtype: int64\n",
      "\n",
      "Loan Amount Term:\n",
      "12.0       1\n",
      "60.0       2\n",
      "36.0       2\n",
      "120.0      3\n",
      "240.0      4\n",
      "84.0       4\n",
      "300.0     13\n",
      "480.0     15\n",
      "180.0     44\n",
      "360.0    512\n",
      "Name: Loan_Amount_Term, dtype: int64\n",
      "\n",
      "Credit History:\n",
      "0.0     89\n",
      "1.0    475\n",
      "Name: Credit_History, dtype: int64\n",
      "\n",
      "Property Area:\n",
      "Semiurban    233\n",
      "Urban        202\n",
      "Rural        179\n",
      "Name: Property_Area, dtype: int64\n"
     ]
    }
   ],
   "source": [
    "#Displaying possible answers for all missing categories\n",
    "print(\"Gender:\")\n",
    "print(df['Gender'].value_counts(ascending=True))\n",
    "\n",
    "print(\"\\nMarried:\")\n",
    "print(df['Married'].value_counts(ascending=True))\n",
    "\n",
    "print('\\nDependents:')\n",
    "print(df['Dependents'].value_counts(ascending=True))\n",
    "\n",
    "print(\"\\nSelf Employed:\")\n",
    "print(df['Self_Employed'].value_counts(ascending=True))\n",
    "\n",
    "print(\"\\nLoan Amount:\")\n",
    "print(df['LoanAmount'].value_counts(ascending=True))\n",
    "\n",
    "print(\"\\nLoan Amount Term:\")\n",
    "print(df['Loan_Amount_Term'].value_counts(ascending=True))\n",
    "\n",
    "print(\"\\nCredit History:\")\n",
    "print(df['Credit_History'].value_counts(ascending=True))\n",
    "\n",
    "print(\"\\nProperty Area:\")\n",
    "print(df['Property_Area'].value_counts())"
   ]
  },
  {
   "cell_type": "code",
   "execution_count": 7,
   "metadata": {},
   "outputs": [],
   "source": [
    "# Sanitizing Gender\n",
    "# Converting all NaN genders to Male\n",
    "df['Gender'] = df['Gender'].fillna('Male')\n",
    "\n",
    "# Converting Male to 1 and Female to 0\n",
    "df['Gender'] = df['Gender'].map({'Male':1, 'Female':0})"
   ]
  },
  {
   "cell_type": "code",
   "execution_count": 8,
   "metadata": {},
   "outputs": [],
   "source": [
    "# Sanitizing married\n",
    "# Default to no\n",
    "df[\"Married\"] = df[\"Married\"].fillna('No')\n",
    "\n",
    "# Converting No to 0 and Yes to 1\n",
    "df[\"Married\"] = df[\"Married\"].map({'No':0, 'Yes':1})"
   ]
  },
  {
   "cell_type": "code",
   "execution_count": 9,
   "metadata": {},
   "outputs": [],
   "source": [
    "# Sanitizing dependents\n",
    "# Default to 0 dependents\n",
    "df[\"Dependents\"] = df[\"Dependents\"].fillna(0)\n",
    "df[\"Dependents\"] = df[\"Dependents\"].replace({\"3+\":3})\n",
    "df[\"Dependents\"] = pd.to_numeric(df[\"Dependents\"])"
   ]
  },
  {
   "cell_type": "code",
   "execution_count": 10,
   "metadata": {},
   "outputs": [],
   "source": [
    "# Sanitizing Self Employed\n",
    "# Default self employed to no\n",
    "df[\"Self_Employed\"] = df[\"Self_Employed\"].fillna(\"No\")\n",
    "\n",
    "# Converting Yes to 1\n",
    "df[\"Self_Employed\"] = df[\"Self_Employed\"].map({\"No\":0,\"Yes\":1})"
   ]
  },
  {
   "cell_type": "code",
   "execution_count": 11,
   "metadata": {},
   "outputs": [],
   "source": [
    "# Sanitizing Credit History\n",
    "# Default credit history to 0\n",
    "df[\"Credit_History\"] = df[\"Credit_History\"].fillna(0.0)"
   ]
  },
  {
   "cell_type": "code",
   "execution_count": 12,
   "metadata": {},
   "outputs": [],
   "source": [
    "# Sanitize loan amount.\n",
    "# Setting NaN vals to mean.\n",
    "# All values are whole numbers\n",
    "df[\"LoanAmount\"] = df[\"LoanAmount\"].fillna(np.floor(df[\"LoanAmount\"].mean()))"
   ]
  },
  {
   "cell_type": "code",
   "execution_count": 13,
   "metadata": {},
   "outputs": [],
   "source": [
    "# Sanitize loan term\n",
    "# Setting NaN vals to mean\n",
    "# All loan terms are whole numbers\n",
    "df[\"Loan_Amount_Term\"] = df[\"Loan_Amount_Term\"].fillna(np.floor(df[\"Loan_Amount_Term\"].mean()))"
   ]
  },
  {
   "cell_type": "code",
   "execution_count": 14,
   "metadata": {},
   "outputs": [],
   "source": [
    "# Converting property area\n",
    "# Urban = 0\n",
    "# Semiurban = 1\n",
    "# Rural = 2\n",
    "df[\"Property_Area\"] = df[\"Property_Area\"].map({\"Urban\":0,\"Semiurban\":1,\"Rural\":2})"
   ]
  },
  {
   "cell_type": "code",
   "execution_count": 15,
   "metadata": {},
   "outputs": [],
   "source": [
    "# Converting Education\n",
    "df[\"Education\"] = df[\"Education\"].map({\"Graduate\":1, \"Not Graduate\":0})"
   ]
  },
  {
   "cell_type": "code",
   "execution_count": 16,
   "metadata": {},
   "outputs": [],
   "source": [
    "# Converting loan status\n",
    "df[\"Loan_Status\"] = df[\"Loan_Status\"].map({\"Y\":1,\"N\":0})"
   ]
  },
  {
   "cell_type": "code",
   "execution_count": 17,
   "metadata": {},
   "outputs": [
    {
     "name": "stdout",
     "output_type": "stream",
     "text": [
      "Loan_ID              0\n",
      "Gender               0\n",
      "Married              0\n",
      "Dependents           0\n",
      "Education            0\n",
      "Self_Employed        0\n",
      "ApplicantIncome      0\n",
      "CoapplicantIncome    0\n",
      "LoanAmount           0\n",
      "Loan_Amount_Term     0\n",
      "Credit_History       0\n",
      "Property_Area        0\n",
      "Loan_Status          0\n",
      "dtype: int64\n"
     ]
    }
   ],
   "source": [
    "# Display missing data\n",
    "# Should all be filled\n",
    "print(df.apply(lambda x: sum(x.isnull()),axis=0))"
   ]
  },
  {
   "cell_type": "code",
   "execution_count": 18,
   "metadata": {},
   "outputs": [
    {
     "name": "stdout",
     "output_type": "stream",
     "text": [
      "Gender  Loan_Status\n",
      "0       0               37\n",
      "        1               75\n",
      "1       0              155\n",
      "        1              347\n",
      "dtype: int64\n"
     ]
    },
    {
     "data": {
      "image/png": "[encoded data removed]",
      "text/plain": [
       "<Figure size 432x288 with 1 Axes>"
      ]
     },
     "metadata": {},
     "output_type": "display_data"
    },
    {
     "name": "stdout",
     "output_type": "stream",
     "text": [
      "Approval ratings for males:\n",
      "69.12350597609563\n",
      "Approval ratings for females:\n",
      "66.96428571428571\n"
     ]
    }
   ],
   "source": [
    "# Checking Relationship between gender and loan approval\n",
    "result = df.groupby([\"Gender\",\"Loan_Status\"]).size()\n",
    "print(result)\n",
    "df.groupby([\"Gender\",\"Loan_Status\"]).size().plot.bar()\n",
    "plt.show()\n",
    "\n",
    "print(\"Approval ratings for males:\")\n",
    "print(result[1][1]/float(result[1][1]+result[1][0])*100)\n",
    "print(\"Approval ratings for females:\")\n",
    "print(result[0][1]/float(result[0][1]+result[0][0])*100)\n",
    "\n",
    "# Gender seems to not affect approval ratings"
   ]
  },
  {
   "cell_type": "code",
   "execution_count": 19,
   "metadata": {},
   "outputs": [
    {
     "name": "stdout",
     "output_type": "stream",
     "text": [
      "Married  Loan_Status\n",
      "0        0               79\n",
      "         1              137\n",
      "1        0              113\n",
      "         1              285\n",
      "dtype: int64\n",
      "Approval ratings for Married:\n",
      "71.60804020100502\n",
      "Approval ratings for Single:\n",
      "63.42592592592593\n"
     ]
    }
   ],
   "source": [
    "# Checking if marital status affects approval ratings\n",
    "result = df.groupby([\"Married\",\"Loan_Status\"]).size()\n",
    "print(result)\n",
    "\n",
    "print(\"Approval ratings for Married:\")\n",
    "print(result[1][1]/float(result[1][1]+result[1][0])*100)\n",
    "print(\"Approval ratings for Single:\")\n",
    "print(result[0][1]/float(result[0][1]+result[0][0])*100)\n",
    "\n",
    "# Marital status seems have to an affect"
   ]
  },
  {
   "cell_type": "code",
   "execution_count": 20,
   "metadata": {},
   "outputs": [
    {
     "name": "stdout",
     "output_type": "stream",
     "text": [
      "Education  Loan_Status\n",
      "0          0               52\n",
      "           1               82\n",
      "1          0              140\n",
      "           1              340\n",
      "dtype: int64\n",
      "Approval for non graduates:\n",
      "61.19402985074627\n",
      "Approval for graduates:\n",
      "70.83333333333334\n"
     ]
    }
   ],
   "source": [
    "# Checking if education impacts approval\n",
    "result = df.groupby([\"Education\", \"Loan_Status\"]).size()\n",
    "print(result)\n",
    "\n",
    "print(\"Approval for non graduates:\")\n",
    "print(result[0][1]/float(result[0][1]+result[0][0])*100)\n",
    "print(\"Approval for graduates:\")\n",
    "print(result[1][1]/float(result[1][1]+result[1][0])*100)"
   ]
  },
  {
   "cell_type": "code",
   "execution_count": 21,
   "metadata": {},
   "outputs": [
    {
     "name": "stdout",
     "output_type": "stream",
     "text": [
      "Dependents  Loan_Status\n",
      "0           0              113\n",
      "            1              247\n",
      "1           0               36\n",
      "            1               66\n",
      "2           0               25\n",
      "            1               76\n",
      "3           0               18\n",
      "            1               33\n",
      "dtype: int64\n",
      "Approval ratings for 0 dependents:\n",
      "68.61111111111111\n",
      "Approval ratings for 1 dependent:\n",
      "64.70588235294117\n",
      "Approval ratings for 2 dependent:\n",
      "75.24752475247524\n",
      "Approval ratings for 3+ dependent:\n",
      "64.70588235294117\n"
     ]
    }
   ],
   "source": [
    "# Checking if number of dependents impact rating\n",
    "result = df.groupby([\"Dependents\",\"Loan_Status\"]).size()\n",
    "print(result)\n",
    "\n",
    "print(\"Approval ratings for 0 dependents:\")\n",
    "print(result[0][1]/float(result[0][1]+result[0][0])*100)\n",
    "print(\"Approval ratings for 1 dependent:\")\n",
    "print(result[1][1]/float(result[1][1]+result[1][0])*100)\n",
    "print(\"Approval ratings for 2 dependent:\")\n",
    "print(result[2][1]/float(result[2][1]+result[2][0])*100)\n",
    "print(\"Approval ratings for 3+ dependent:\")\n",
    "print(result[3][1]/float(result[3][1]+result[3][0])*100)"
   ]
  },
  {
   "cell_type": "code",
   "execution_count": 22,
   "metadata": {},
   "outputs": [],
   "source": [
    "# Dropping unused columns\n",
    "df = df.drop([\"Loan_ID\", \"Gender\", \"Dependents\",\"Property_Area\"], axis=1)"
   ]
  },
  {
   "cell_type": "code",
   "execution_count": 23,
   "metadata": {},
   "outputs": [],
   "source": [
    "# Randomly shuffling data set and using 500 of the 614 datapoints as a training set\n",
    "data_array = df.values\n",
    "np.random.shuffle(data_array)\n",
    "X_learning = data_array[:500][:,0:8]\n",
    "Y_learning = data_array[:500][:,8]"
   ]
  },
  {
   "cell_type": "code",
   "execution_count": 24,
   "metadata": {},
   "outputs": [
    {
     "data": {
      "text/plain": [
       "SVC(C=1.0, cache_size=200, class_weight=None, coef0=0.0,\n",
       "  decision_function_shape='ovr', degree=3, gamma='auto', kernel='rbf',\n",
       "  max_iter=-1, probability=False, random_state=None, shrinking=True,\n",
       "  tol=0.001, verbose=False)"
      ]
     },
     "execution_count": 24,
     "metadata": {},
     "output_type": "execute_result"
    }
   ],
   "source": [
    "# Training SVC model\n",
    "svc = SVC()\n",
    "svc.fit(X_learning, Y_learning)"
   ]
  },
  {
   "cell_type": "code",
   "execution_count": 25,
   "metadata": {},
   "outputs": [
    {
     "name": "stdout",
     "output_type": "stream",
     "text": [
      "Accuracy: 1.000000\n"
     ]
    }
   ],
   "source": [
    "# Running on training set\n",
    "predictions = svc.predict(X_learning)\n",
    "print(\"Accuracy: %f\" %(accuracy_score(Y_learning, predictions)))"
   ]
  },
  {
   "cell_type": "code",
   "execution_count": 26,
   "metadata": {},
   "outputs": [
    {
     "name": "stdout",
     "output_type": "stream",
     "text": [
      "Predicted results: \n",
      "[1. 1. 1. 1. 1. 1. 1. 1. 1. 1. 1. 1. 1. 1. 1. 1. 1. 1. 1. 1. 1. 1. 1. 1.\n",
      " 1. 1. 1. 1. 1. 1. 1. 1. 1. 1. 1. 1. 1. 1. 1. 1. 1. 1. 1. 1. 1. 1. 1. 1.\n",
      " 1. 1. 1. 1. 1. 1. 1. 1. 1. 1. 1. 1. 1. 1. 1. 1. 1. 1. 1. 1. 1. 1. 1. 1.\n",
      " 1. 1. 1. 1. 1. 1. 1. 1. 1. 1. 1. 1. 1. 1. 1. 1. 1. 1. 1. 1. 1. 1. 1. 1.\n",
      " 1. 1. 1. 1. 1. 1. 1. 1. 1. 1. 1. 1. 1. 1. 1. 1. 1. 1.]\n",
      "Actual results: \n",
      "[1. 1. 1. 1. 0. 1. 1. 0. 0. 1. 1. 1. 1. 1. 1. 0. 1. 0. 0. 1. 0. 1. 1. 0.\n",
      " 1. 0. 1. 1. 0. 1. 0. 0. 1. 0. 1. 0. 1. 0. 1. 1. 1. 1. 1. 0. 1. 1. 1. 1.\n",
      " 1. 0. 1. 0. 1. 0. 1. 1. 1. 0. 1. 0. 1. 0. 0. 1. 1. 0. 1. 0. 1. 1. 1. 1.\n",
      " 1. 0. 1. 1. 0. 1. 0. 0. 1. 0. 1. 1. 1. 1. 1. 1. 0. 1. 1. 1. 1. 0. 1. 1.\n",
      " 1. 1. 1. 1. 1. 1. 0. 1. 1. 1. 0. 1. 1. 0. 1. 1. 1. 0.]\n",
      "Accuracy: 0.684211\n"
     ]
    }
   ],
   "source": [
    "# Evaluating results\n",
    "X_test = data_array[-114:][:,0:8]\n",
    "Y_test = data_array[-114:][:,8]\n",
    "\n",
    "predictions = svc.predict(X_test)\n",
    "print(\"Predicted results: \")\n",
    "print(predictions)\n",
    "print(\"Actual results: \")\n",
    "print(Y_test)\n",
    "print(\"Accuracy: %f\" %(accuracy_score(Y_test, predictions)))"
   ]
  },
  {
   "cell_type": "code",
   "execution_count": 27,
   "metadata": {},
   "outputs": [
    {
     "name": "stdout",
     "output_type": "stream",
     "text": [
      "[[ 0 36]\n",
      " [ 0 78]]\n",
      "             precision    recall  f1-score   support\n",
      "\n",
      "        0.0       0.00      0.00      0.00        36\n",
      "        1.0       0.68      1.00      0.81        78\n",
      "\n",
      "avg / total       0.47      0.68      0.56       114\n",
      "\n"
     ]
    },
    {
     "name": "stderr",
     "output_type": "stream",
     "text": [
      "/anaconda3/lib/python3.6/site-packages/sklearn/metrics/classification.py:1135: UndefinedMetricWarning: Precision and F-score are ill-defined and being set to 0.0 in labels with no predicted samples.\n",
      "  'precision', 'predicted', average, warn_for)\n"
     ]
    }
   ],
   "source": [
    "print(confusion_matrix(Y_test, predictions))\n",
    "print(classification_report(Y_test, predictions))"
   ]
  },
  {
   "cell_type": "code",
   "execution_count": 28,
   "metadata": {},
   "outputs": [],
   "source": [
    "# K fold validation\n",
    "data_array = df.values\n",
    "np.random.shuffle(data_array)\n",
    "X_learning = data_array[:500][:,0:8]\n",
    "Y_leanring = data_array[:500][:,8]\n",
    "\n",
    "# Splitting into 10 folds\n",
    "kfold = model_selection.KFold(n_splits=10)"
   ]
  },
  {
   "cell_type": "code",
   "execution_count": 29,
   "metadata": {},
   "outputs": [],
   "source": [
    "models = []\n",
    "models.append(( \"LoR\", LogisticRegression() ))\n",
    "models.append(( \"LDA\", LinearDiscriminantAnalysis() ))\n",
    "models.append(( \"QDA\", QuadraticDiscriminantAnalysis() ))\n",
    "models.append(( \"SVC\", SVC() ))\n",
    "models.append(( \"LSVC\", LinearSVC() ))\n",
    "models.append(( \"SGD\", SGDClassifier() ))\n",
    "models.append(( \"KNN\", KNeighborsClassifier() ))\n",
    "models.append(( \"GNB\", GaussianNB() ))\n",
    "models.append(( \"DT\", DecisionTreeClassifier() ))\n",
    "models.append(( \"RF\", RandomForestClassifier() ))"
   ]
  },
  {
   "cell_type": "code",
   "execution_count": 30,
   "metadata": {},
   "outputs": [
    {
     "name": "stdout",
     "output_type": "stream",
     "text": [
      "\n",
      "LoR\n",
      "Result: [0.62 0.7  0.64 0.66 0.74 0.76 0.68 0.72 0.6  0.74]\n",
      "Mean: 0.6859999999999999\n",
      "Standard Deviation: 0.05219195340279955\n",
      "\n",
      "LDA\n",
      "Result: [0.62 0.7  0.64 0.66 0.74 0.76 0.68 0.72 0.6  0.74]\n",
      "Mean: 0.6859999999999999\n",
      "Standard Deviation: 0.05219195340279955\n",
      "\n",
      "QDA\n",
      "Result: [0.54 0.6  0.62 0.62 0.62 0.74 0.58 0.72 0.58 0.7 ]\n",
      "Mean: 0.6319999999999999\n",
      "Standard Deviation: 0.06273754856543248\n",
      "\n",
      "SVC\n",
      "Result: [0.6  0.7  0.64 0.66 0.74 0.76 0.68 0.72 0.6  0.76]\n",
      "Mean: 0.6859999999999999\n",
      "Standard Deviation: 0.05730619512757761\n",
      "\n",
      "LSVC\n",
      "Result: [0.6  0.72 0.54 0.34 0.72 0.76 0.68 0.72 0.6  0.74]\n",
      "Mean: 0.642\n",
      "Standard Deviation: 0.1218031198286809\n",
      "\n",
      "SGD\n",
      "Result: [0.62 0.28 0.54 0.66 0.58 0.76 0.44 0.28 0.4  0.68]\n",
      "Mean: 0.524\n",
      "Standard Deviation: 0.15894653189044422\n",
      "\n",
      "KNN\n",
      "Result: [0.56 0.72 0.6  0.6  0.7  0.64 0.6  0.64 0.64 0.62]\n",
      "Mean: 0.632\n",
      "Standard Deviation: 0.045782092569038375\n",
      "\n",
      "GNB\n",
      "Result: [0.56 0.64 0.64 0.64 0.62 0.78 0.6  0.68 0.58 0.7 ]\n",
      "Mean: 0.644\n",
      "Standard Deviation: 0.06053098380168623\n",
      "\n",
      "DT\n",
      "Result: [0.62 0.5  0.52 0.52 0.54 0.7  0.62 0.6  0.52 0.52]\n",
      "Mean: 0.5660000000000001\n",
      "Standard Deviation: 0.06199999999999999\n",
      "\n",
      "RF\n",
      "Result: [0.52 0.5  0.54 0.54 0.68 0.58 0.54 0.66 0.56 0.62]\n",
      "Mean: 0.5740000000000001\n",
      "Standard Deviation: 0.05730619512757762\n"
     ]
    },
    {
     "name": "stderr",
     "output_type": "stream",
     "text": [
      "/anaconda3/lib/python3.6/site-packages/sklearn/linear_model/stochastic_gradient.py:128: FutureWarning: max_iter and tol parameters have been added in <class 'sklearn.linear_model.stochastic_gradient.SGDClassifier'> in 0.19. If both are left unset, they default to max_iter=5 and tol=None. If tol is not None, max_iter defaults to max_iter=1000. From 0.21, default max_iter will be 1000, and default tol will be 1e-3.\n",
      "  \"and default tol will be 1e-3.\" % type(self), FutureWarning)\n",
      "/anaconda3/lib/python3.6/site-packages/sklearn/linear_model/stochastic_gradient.py:128: FutureWarning: max_iter and tol parameters have been added in <class 'sklearn.linear_model.stochastic_gradient.SGDClassifier'> in 0.19. If both are left unset, they default to max_iter=5 and tol=None. If tol is not None, max_iter defaults to max_iter=1000. From 0.21, default max_iter will be 1000, and default tol will be 1e-3.\n",
      "  \"and default tol will be 1e-3.\" % type(self), FutureWarning)\n",
      "/anaconda3/lib/python3.6/site-packages/sklearn/linear_model/stochastic_gradient.py:128: FutureWarning: max_iter and tol parameters have been added in <class 'sklearn.linear_model.stochastic_gradient.SGDClassifier'> in 0.19. If both are left unset, they default to max_iter=5 and tol=None. If tol is not None, max_iter defaults to max_iter=1000. From 0.21, default max_iter will be 1000, and default tol will be 1e-3.\n",
      "  \"and default tol will be 1e-3.\" % type(self), FutureWarning)\n",
      "/anaconda3/lib/python3.6/site-packages/sklearn/linear_model/stochastic_gradient.py:128: FutureWarning: max_iter and tol parameters have been added in <class 'sklearn.linear_model.stochastic_gradient.SGDClassifier'> in 0.19. If both are left unset, they default to max_iter=5 and tol=None. If tol is not None, max_iter defaults to max_iter=1000. From 0.21, default max_iter will be 1000, and default tol will be 1e-3.\n",
      "  \"and default tol will be 1e-3.\" % type(self), FutureWarning)\n",
      "/anaconda3/lib/python3.6/site-packages/sklearn/linear_model/stochastic_gradient.py:128: FutureWarning: max_iter and tol parameters have been added in <class 'sklearn.linear_model.stochastic_gradient.SGDClassifier'> in 0.19. If both are left unset, they default to max_iter=5 and tol=None. If tol is not None, max_iter defaults to max_iter=1000. From 0.21, default max_iter will be 1000, and default tol will be 1e-3.\n",
      "  \"and default tol will be 1e-3.\" % type(self), FutureWarning)\n",
      "/anaconda3/lib/python3.6/site-packages/sklearn/linear_model/stochastic_gradient.py:128: FutureWarning: max_iter and tol parameters have been added in <class 'sklearn.linear_model.stochastic_gradient.SGDClassifier'> in 0.19. If both are left unset, they default to max_iter=5 and tol=None. If tol is not None, max_iter defaults to max_iter=1000. From 0.21, default max_iter will be 1000, and default tol will be 1e-3.\n",
      "  \"and default tol will be 1e-3.\" % type(self), FutureWarning)\n",
      "/anaconda3/lib/python3.6/site-packages/sklearn/linear_model/stochastic_gradient.py:128: FutureWarning: max_iter and tol parameters have been added in <class 'sklearn.linear_model.stochastic_gradient.SGDClassifier'> in 0.19. If both are left unset, they default to max_iter=5 and tol=None. If tol is not None, max_iter defaults to max_iter=1000. From 0.21, default max_iter will be 1000, and default tol will be 1e-3.\n",
      "  \"and default tol will be 1e-3.\" % type(self), FutureWarning)\n",
      "/anaconda3/lib/python3.6/site-packages/sklearn/linear_model/stochastic_gradient.py:128: FutureWarning: max_iter and tol parameters have been added in <class 'sklearn.linear_model.stochastic_gradient.SGDClassifier'> in 0.19. If both are left unset, they default to max_iter=5 and tol=None. If tol is not None, max_iter defaults to max_iter=1000. From 0.21, default max_iter will be 1000, and default tol will be 1e-3.\n",
      "  \"and default tol will be 1e-3.\" % type(self), FutureWarning)\n",
      "/anaconda3/lib/python3.6/site-packages/sklearn/linear_model/stochastic_gradient.py:128: FutureWarning: max_iter and tol parameters have been added in <class 'sklearn.linear_model.stochastic_gradient.SGDClassifier'> in 0.19. If both are left unset, they default to max_iter=5 and tol=None. If tol is not None, max_iter defaults to max_iter=1000. From 0.21, default max_iter will be 1000, and default tol will be 1e-3.\n",
      "  \"and default tol will be 1e-3.\" % type(self), FutureWarning)\n",
      "/anaconda3/lib/python3.6/site-packages/sklearn/linear_model/stochastic_gradient.py:128: FutureWarning: max_iter and tol parameters have been added in <class 'sklearn.linear_model.stochastic_gradient.SGDClassifier'> in 0.19. If both are left unset, they default to max_iter=5 and tol=None. If tol is not None, max_iter defaults to max_iter=1000. From 0.21, default max_iter will be 1000, and default tol will be 1e-3.\n",
      "  \"and default tol will be 1e-3.\" % type(self), FutureWarning)\n"
     ]
    }
   ],
   "source": [
    "# cross validating models\n",
    "model_names = []\n",
    "means = []\n",
    "stds =[]\n",
    "for name, model in models:\n",
    "    cv_results = model_selection.cross_val_score(model, X_learning, Y_learning, scoring=\"accuracy\", cv=kfold)\n",
    "    print(\"\\n\" + name)\n",
    "    model_names.append(name)\n",
    "    print(\"Result: \" + str(cv_results))\n",
    "    print(\"Mean: \" + str(cv_results.mean()))\n",
    "    print(\"Standard Deviation: \" + str(cv_results.std()))\n",
    "    means.append(cv_results.mean())\n",
    "    stds.append(cv_results.std())"
   ]
  },
  {
   "cell_type": "code",
   "execution_count": 31,
   "metadata": {},
   "outputs": [
    {
     "data": {
      "image/png": "[encoded data removed]",
      "text/plain": [
       "<Figure size 432x288 with 1 Axes>"
      ]
     },
     "metadata": {},
     "output_type": "display_data"
    }
   ],
   "source": [
    "# plotting results\n",
    "x_loc = np.arange(len(models))\n",
    "width = 0.5\n",
    "models_graph = plt.bar(x_loc, means, width, yerr=stds)\n",
    "plt.ylabel(\"Accuracy\")\n",
    "plt.title(\"Scores of Models\")\n",
    "plt.xticks(x_loc, model_names)\n",
    "\n",
    "def addLabels(rects):\n",
    "    for rect in rects:\n",
    "        height = rect.get_height()\n",
    "        plt.text(rect.get_x() + rect.get_width()/2., 1.05*height,\n",
    "                '%f' % height, ha='center',\n",
    "                va='bottom')\n",
    "        \n",
    "addLabels(models_graph)\n",
    "plt.show()"
   ]
  },
  {
   "cell_type": "code",
   "execution_count": null,
   "metadata": {},
   "outputs": [],
   "source": []
  }
 ],
 "metadata": {
  "kernelspec": {
   "display_name": "Python 3",
   "language": "python",
   "name": "python3"
  },
  "language_info": {
   "codemirror_mode": {
    "name": "ipython",
    "version": 3
   },
   "file_extension": ".py",
   "mimetype": "text/x-python",
   "name": "python",
   "nbconvert_exporter": "python",
   "pygments_lexer": "ipython3",
   "version": "3.6.5"
  }
 },
 "nbformat": 4,
 "nbformat_minor": 2
}
